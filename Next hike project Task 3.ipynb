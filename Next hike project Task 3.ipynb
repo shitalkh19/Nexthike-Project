{
 "cells": [
  {
   "cell_type": "markdown",
   "id": "7981ac72",
   "metadata": {},
   "source": [
    "# impoting libraries"
   ]
  },
  {
   "cell_type": "code",
   "execution_count": 1,
   "id": "455f29ab",
   "metadata": {},
   "outputs": [],
   "source": [
    "import pandas as pd\n",
    "import numpy as np\n",
    "import seaborn as sns\n",
    "import matplotlib.pyplot as plt"
   ]
  },
  {
   "cell_type": "code",
   "execution_count": 2,
   "id": "222c6549",
   "metadata": {},
   "outputs": [],
   "source": [
    "import warnings\n",
    "warnings.filterwarnings('ignore')\n"
   ]
  },
  {
   "cell_type": "markdown",
   "id": "2dd85660",
   "metadata": {},
   "source": [
    "# Import the Data"
   ]
  },
  {
   "cell_type": "code",
   "execution_count": 4,
   "id": "6a073123",
   "metadata": {},
   "outputs": [
    {
     "data": {
      "text/html": [
       "<div>\n",
       "<style scoped>\n",
       "    .dataframe tbody tr th:only-of-type {\n",
       "        vertical-align: middle;\n",
       "    }\n",
       "\n",
       "    .dataframe tbody tr th {\n",
       "        vertical-align: top;\n",
       "    }\n",
       "\n",
       "    .dataframe thead th {\n",
       "        text-align: right;\n",
       "    }\n",
       "</style>\n",
       "<table border=\"1\" class=\"dataframe\">\n",
       "  <thead>\n",
       "    <tr style=\"text-align: right;\">\n",
       "      <th></th>\n",
       "      <th>Bearer Id</th>\n",
       "      <th>Start</th>\n",
       "      <th>Start ms</th>\n",
       "      <th>End</th>\n",
       "      <th>End ms</th>\n",
       "      <th>Dur. (ms)</th>\n",
       "      <th>IMSI</th>\n",
       "      <th>MSISDN/Number</th>\n",
       "      <th>IMEI</th>\n",
       "      <th>Last Location Name</th>\n",
       "      <th>...</th>\n",
       "      <th>Youtube DL (Bytes)</th>\n",
       "      <th>Youtube UL (Bytes)</th>\n",
       "      <th>Netflix DL (Bytes)</th>\n",
       "      <th>Netflix UL (Bytes)</th>\n",
       "      <th>Gaming DL (Bytes)</th>\n",
       "      <th>Gaming UL (Bytes)</th>\n",
       "      <th>Other DL (Bytes)</th>\n",
       "      <th>Other UL (Bytes)</th>\n",
       "      <th>Total UL (Bytes)</th>\n",
       "      <th>Total DL (Bytes)</th>\n",
       "    </tr>\n",
       "  </thead>\n",
       "  <tbody>\n",
       "    <tr>\n",
       "      <th>0</th>\n",
       "      <td>13114483460844900352</td>\n",
       "      <td>2019-04-04 12:01:18</td>\n",
       "      <td>770.0</td>\n",
       "      <td>2019-04-25 14:35:31</td>\n",
       "      <td>662.0</td>\n",
       "      <td>1823652.0</td>\n",
       "      <td>2.082014e+14</td>\n",
       "      <td>3.366496e+10</td>\n",
       "      <td>3.552121e+13</td>\n",
       "      <td>9164566995485190</td>\n",
       "      <td>...</td>\n",
       "      <td>15854611.0</td>\n",
       "      <td>2501332.0</td>\n",
       "      <td>8198936.0</td>\n",
       "      <td>9656251.0</td>\n",
       "      <td>278082303.0</td>\n",
       "      <td>14344150.0</td>\n",
       "      <td>171744450.0</td>\n",
       "      <td>8814393.0</td>\n",
       "      <td>36749741.0</td>\n",
       "      <td>308879636.0</td>\n",
       "    </tr>\n",
       "    <tr>\n",
       "      <th>1</th>\n",
       "      <td>13114483482878900224</td>\n",
       "      <td>2019-04-09 13:04:04</td>\n",
       "      <td>235.0</td>\n",
       "      <td>2019-04-25 08:15:48</td>\n",
       "      <td>606.0</td>\n",
       "      <td>1365104.0</td>\n",
       "      <td>2.082019e+14</td>\n",
       "      <td>3.368185e+10</td>\n",
       "      <td>3.579401e+13</td>\n",
       "      <td>L77566A</td>\n",
       "      <td>...</td>\n",
       "      <td>20247395.0</td>\n",
       "      <td>19111729.0</td>\n",
       "      <td>18338413.0</td>\n",
       "      <td>17227132.0</td>\n",
       "      <td>608750074.0</td>\n",
       "      <td>1170709.0</td>\n",
       "      <td>526904238.0</td>\n",
       "      <td>15055145.0</td>\n",
       "      <td>53800391.0</td>\n",
       "      <td>653384965.0</td>\n",
       "    </tr>\n",
       "    <tr>\n",
       "      <th>2</th>\n",
       "      <td>13114483484080500736</td>\n",
       "      <td>2019-04-09 17:42:11</td>\n",
       "      <td>1.0</td>\n",
       "      <td>2019-04-25 11:58:13</td>\n",
       "      <td>652.0</td>\n",
       "      <td>1361762.0</td>\n",
       "      <td>2.082003e+14</td>\n",
       "      <td>3.376063e+10</td>\n",
       "      <td>3.528151e+13</td>\n",
       "      <td>D42335A</td>\n",
       "      <td>...</td>\n",
       "      <td>19725661.0</td>\n",
       "      <td>14699576.0</td>\n",
       "      <td>17587794.0</td>\n",
       "      <td>6163408.0</td>\n",
       "      <td>229584621.0</td>\n",
       "      <td>395630.0</td>\n",
       "      <td>410692588.0</td>\n",
       "      <td>4215763.0</td>\n",
       "      <td>27883638.0</td>\n",
       "      <td>279807335.0</td>\n",
       "    </tr>\n",
       "    <tr>\n",
       "      <th>3</th>\n",
       "      <td>13114483485442799616</td>\n",
       "      <td>2019-04-10 00:31:25</td>\n",
       "      <td>486.0</td>\n",
       "      <td>2019-04-25 07:36:35</td>\n",
       "      <td>171.0</td>\n",
       "      <td>1321509.0</td>\n",
       "      <td>2.082014e+14</td>\n",
       "      <td>3.375034e+10</td>\n",
       "      <td>3.535661e+13</td>\n",
       "      <td>T21824A</td>\n",
       "      <td>...</td>\n",
       "      <td>21388122.0</td>\n",
       "      <td>15146643.0</td>\n",
       "      <td>13994646.0</td>\n",
       "      <td>1097942.0</td>\n",
       "      <td>799538153.0</td>\n",
       "      <td>10849722.0</td>\n",
       "      <td>749039933.0</td>\n",
       "      <td>12797283.0</td>\n",
       "      <td>43324218.0</td>\n",
       "      <td>846028530.0</td>\n",
       "    </tr>\n",
       "    <tr>\n",
       "      <th>4</th>\n",
       "      <td>13114483499480700928</td>\n",
       "      <td>2019-04-12 20:10:23</td>\n",
       "      <td>565.0</td>\n",
       "      <td>2019-04-25 10:40:32</td>\n",
       "      <td>954.0</td>\n",
       "      <td>1089009.0</td>\n",
       "      <td>2.082014e+14</td>\n",
       "      <td>3.369980e+10</td>\n",
       "      <td>3.540701e+13</td>\n",
       "      <td>D88865A</td>\n",
       "      <td>...</td>\n",
       "      <td>15259380.0</td>\n",
       "      <td>18962873.0</td>\n",
       "      <td>17124581.0</td>\n",
       "      <td>415218.0</td>\n",
       "      <td>527707248.0</td>\n",
       "      <td>3529801.0</td>\n",
       "      <td>550709500.0</td>\n",
       "      <td>13910322.0</td>\n",
       "      <td>38542814.0</td>\n",
       "      <td>569138589.0</td>\n",
       "    </tr>\n",
       "  </tbody>\n",
       "</table>\n",
       "<p>5 rows × 55 columns</p>\n",
       "</div>"
      ],
      "text/plain": [
       "              Bearer Id               Start  Start ms                 End  \\\n",
       "0  13114483460844900352 2019-04-04 12:01:18     770.0 2019-04-25 14:35:31   \n",
       "1  13114483482878900224 2019-04-09 13:04:04     235.0 2019-04-25 08:15:48   \n",
       "2  13114483484080500736 2019-04-09 17:42:11       1.0 2019-04-25 11:58:13   \n",
       "3  13114483485442799616 2019-04-10 00:31:25     486.0 2019-04-25 07:36:35   \n",
       "4  13114483499480700928 2019-04-12 20:10:23     565.0 2019-04-25 10:40:32   \n",
       "\n",
       "   End ms  Dur. (ms)          IMSI  MSISDN/Number          IMEI  \\\n",
       "0   662.0  1823652.0  2.082014e+14   3.366496e+10  3.552121e+13   \n",
       "1   606.0  1365104.0  2.082019e+14   3.368185e+10  3.579401e+13   \n",
       "2   652.0  1361762.0  2.082003e+14   3.376063e+10  3.528151e+13   \n",
       "3   171.0  1321509.0  2.082014e+14   3.375034e+10  3.535661e+13   \n",
       "4   954.0  1089009.0  2.082014e+14   3.369980e+10  3.540701e+13   \n",
       "\n",
       "  Last Location Name  ...  Youtube DL (Bytes)  Youtube UL (Bytes)  \\\n",
       "0   9164566995485190  ...          15854611.0           2501332.0   \n",
       "1            L77566A  ...          20247395.0          19111729.0   \n",
       "2            D42335A  ...          19725661.0          14699576.0   \n",
       "3            T21824A  ...          21388122.0          15146643.0   \n",
       "4            D88865A  ...          15259380.0          18962873.0   \n",
       "\n",
       "   Netflix DL (Bytes)  Netflix UL (Bytes)  Gaming DL (Bytes)  \\\n",
       "0           8198936.0           9656251.0        278082303.0   \n",
       "1          18338413.0          17227132.0        608750074.0   \n",
       "2          17587794.0           6163408.0        229584621.0   \n",
       "3          13994646.0           1097942.0        799538153.0   \n",
       "4          17124581.0            415218.0        527707248.0   \n",
       "\n",
       "   Gaming UL (Bytes)  Other DL (Bytes)  Other UL (Bytes)  Total UL (Bytes)  \\\n",
       "0         14344150.0       171744450.0         8814393.0        36749741.0   \n",
       "1          1170709.0       526904238.0        15055145.0        53800391.0   \n",
       "2           395630.0       410692588.0         4215763.0        27883638.0   \n",
       "3         10849722.0       749039933.0        12797283.0        43324218.0   \n",
       "4          3529801.0       550709500.0        13910322.0        38542814.0   \n",
       "\n",
       "   Total DL (Bytes)  \n",
       "0       308879636.0  \n",
       "1       653384965.0  \n",
       "2       279807335.0  \n",
       "3       846028530.0  \n",
       "4       569138589.0  \n",
       "\n",
       "[5 rows x 55 columns]"
      ]
     },
     "execution_count": 4,
     "metadata": {},
     "output_type": "execute_result"
    }
   ],
   "source": [
    "df = pd.read_excel(r\"C:\\Users\\shita\\Downloads\\telcom_data (1).xlsx\")\n",
    "df.head()"
   ]
  },
  {
   "cell_type": "markdown",
   "id": "df235250",
   "metadata": {},
   "source": [
    "# Task 3 - Experience Analytics\n"
   ]
  },
  {
   "cell_type": "code",
   "execution_count": null,
   "id": "0af32209",
   "metadata": {},
   "outputs": [],
   "source": [
    "Task 3.1 Aggregate, per customer, the following information (treat missing & outliers by replacing with the mean or the\n",
    "                                                    mode of the corresponding variable):\n"
   ]
  },
  {
   "cell_type": "code",
   "execution_count": 27,
   "id": "066f5af2",
   "metadata": {},
   "outputs": [],
   "source": [
    "# Treat outliers by replacing with the mean of the corresponding variable\n",
    "\n",
    "def replace_outliers_with_mean(column):\n",
    "    \n",
    "    mean = column.mean()\n",
    "    std = column.std()\n",
    "    column[np.abs(column - mean) > 3 * std] = mean\n",
    "\n",
    "replace_outliers_with_mean(df['avg_tcp_retransmission'])\n",
    "replace_outliers_with_mean(df['avg_rtt'])\n",
    "replace_outliers_with_mean(df['avg_throughput'])"
   ]
  },
  {
   "cell_type": "code",
   "execution_count": 28,
   "id": "5e8c44c8",
   "metadata": {},
   "outputs": [
    {
     "data": {
      "text/html": [
       "<div>\n",
       "<style scoped>\n",
       "    .dataframe tbody tr th:only-of-type {\n",
       "        vertical-align: middle;\n",
       "    }\n",
       "\n",
       "    .dataframe tbody tr th {\n",
       "        vertical-align: top;\n",
       "    }\n",
       "\n",
       "    .dataframe thead th {\n",
       "        text-align: right;\n",
       "    }\n",
       "</style>\n",
       "<table border=\"1\" class=\"dataframe\">\n",
       "  <thead>\n",
       "    <tr style=\"text-align: right;\">\n",
       "      <th></th>\n",
       "      <th>avg_tcp_retransmission</th>\n",
       "      <th>avg_rtt</th>\n",
       "      <th>Handset Type</th>\n",
       "      <th>avg_throughput</th>\n",
       "    </tr>\n",
       "    <tr>\n",
       "      <th>MSISDN/Number</th>\n",
       "      <th></th>\n",
       "      <th></th>\n",
       "      <th></th>\n",
       "      <th></th>\n",
       "    </tr>\n",
       "  </thead>\n",
       "  <tbody>\n",
       "    <tr>\n",
       "      <th>3.360100e+10</th>\n",
       "      <td>1.285848e+07</td>\n",
       "      <td>23.000000</td>\n",
       "      <td>Huawei P20 Lite Huawei Nova 3E</td>\n",
       "      <td>38.0</td>\n",
       "    </tr>\n",
       "    <tr>\n",
       "      <th>3.360100e+10</th>\n",
       "      <td>1.285848e+07</td>\n",
       "      <td>15.500000</td>\n",
       "      <td>Apple iPhone 7 (A1778)</td>\n",
       "      <td>49.5</td>\n",
       "    </tr>\n",
       "    <tr>\n",
       "      <th>3.360100e+10</th>\n",
       "      <td>1.285848e+07</td>\n",
       "      <td>63.512443</td>\n",
       "      <td>undefined</td>\n",
       "      <td>48.5</td>\n",
       "    </tr>\n",
       "    <tr>\n",
       "      <th>3.360101e+10</th>\n",
       "      <td>1.285848e+07</td>\n",
       "      <td>42.000000</td>\n",
       "      <td>Apple iPhone 5S (A1457)</td>\n",
       "      <td>124.0</td>\n",
       "    </tr>\n",
       "    <tr>\n",
       "      <th>3.360101e+10</th>\n",
       "      <td>8.771950e+06</td>\n",
       "      <td>29.750000</td>\n",
       "      <td>Apple iPhone Se (A1723)</td>\n",
       "      <td>14211.0</td>\n",
       "    </tr>\n",
       "    <tr>\n",
       "      <th>...</th>\n",
       "      <td>...</td>\n",
       "      <td>...</td>\n",
       "      <td>...</td>\n",
       "      <td>...</td>\n",
       "    </tr>\n",
       "    <tr>\n",
       "      <th>3.379000e+10</th>\n",
       "      <td>1.090225e+05</td>\n",
       "      <td>26.000000</td>\n",
       "      <td>Huawei Honor 9 Lite</td>\n",
       "      <td>5182.5</td>\n",
       "    </tr>\n",
       "    <tr>\n",
       "      <th>3.379000e+10</th>\n",
       "      <td>1.285848e+07</td>\n",
       "      <td>20.000000</td>\n",
       "      <td>Apple iPhone 8 Plus (A1897)</td>\n",
       "      <td>58.0</td>\n",
       "    </tr>\n",
       "    <tr>\n",
       "      <th>3.197021e+12</th>\n",
       "      <td>1.285848e+07</td>\n",
       "      <td>63.512443</td>\n",
       "      <td>Quectel Wireless. Quectel Ec25-E</td>\n",
       "      <td>0.5</td>\n",
       "    </tr>\n",
       "    <tr>\n",
       "      <th>3.370000e+14</th>\n",
       "      <td>1.285848e+07</td>\n",
       "      <td>63.512443</td>\n",
       "      <td>Huawei B525S-23A</td>\n",
       "      <td>16.5</td>\n",
       "    </tr>\n",
       "    <tr>\n",
       "      <th>8.823971e+14</th>\n",
       "      <td>1.285848e+07</td>\n",
       "      <td>63.512443</td>\n",
       "      <td>Quectel Wireless. Quectel Ec21-E</td>\n",
       "      <td>1.0</td>\n",
       "    </tr>\n",
       "  </tbody>\n",
       "</table>\n",
       "<p>106856 rows × 4 columns</p>\n",
       "</div>"
      ],
      "text/plain": [
       "               avg_tcp_retransmission    avg_rtt  \\\n",
       "MSISDN/Number                                      \n",
       "3.360100e+10             1.285848e+07  23.000000   \n",
       "3.360100e+10             1.285848e+07  15.500000   \n",
       "3.360100e+10             1.285848e+07  63.512443   \n",
       "3.360101e+10             1.285848e+07  42.000000   \n",
       "3.360101e+10             8.771950e+06  29.750000   \n",
       "...                               ...        ...   \n",
       "3.379000e+10             1.090225e+05  26.000000   \n",
       "3.379000e+10             1.285848e+07  20.000000   \n",
       "3.197021e+12             1.285848e+07  63.512443   \n",
       "3.370000e+14             1.285848e+07  63.512443   \n",
       "8.823971e+14             1.285848e+07  63.512443   \n",
       "\n",
       "                                   Handset Type  avg_throughput  \n",
       "MSISDN/Number                                                    \n",
       "3.360100e+10     Huawei P20 Lite Huawei Nova 3E            38.0  \n",
       "3.360100e+10             Apple iPhone 7 (A1778)            49.5  \n",
       "3.360100e+10                          undefined            48.5  \n",
       "3.360101e+10            Apple iPhone 5S (A1457)           124.0  \n",
       "3.360101e+10            Apple iPhone Se (A1723)         14211.0  \n",
       "...                                         ...             ...  \n",
       "3.379000e+10                Huawei Honor 9 Lite          5182.5  \n",
       "3.379000e+10        Apple iPhone 8 Plus (A1897)            58.0  \n",
       "3.197021e+12   Quectel Wireless. Quectel Ec25-E             0.5  \n",
       "3.370000e+14                   Huawei B525S-23A            16.5  \n",
       "8.823971e+14   Quectel Wireless. Quectel Ec21-E             1.0  \n",
       "\n",
       "[106856 rows x 4 columns]"
      ]
     },
     "execution_count": 28,
     "metadata": {},
     "output_type": "execute_result"
    }
   ],
   "source": [
    "# Aggregate the information per customer\n",
    "\n",
    "grouped_df = df.groupby('MSISDN/Number').agg({\n",
    "    'avg_tcp_retransmission': 'mean',\n",
    "    'avg_rtt': 'mean',\n",
    "    'Handset Type': lambda x: x.mode()[0],\n",
    "    'avg_throughput': 'mean'\n",
    "})\n",
    "\n",
    "grouped_df"
   ]
  },
  {
   "cell_type": "markdown",
   "id": "123a09bb",
   "metadata": {},
   "source": [
    "# Average TCP retransmission"
   ]
  },
  {
   "cell_type": "code",
   "execution_count": 5,
   "id": "adee09fa",
   "metadata": {},
   "outputs": [
    {
     "data": {
      "text/plain": [
       "0        NaN\n",
       "1        NaN\n",
       "2        NaN\n",
       "3        NaN\n",
       "4        NaN\n",
       "          ..\n",
       "149996   NaN\n",
       "149997   NaN\n",
       "149998   NaN\n",
       "149999   NaN\n",
       "150000   NaN\n",
       "Name: avg_tcp_retransmission, Length: 150001, dtype: float64"
      ]
     },
     "execution_count": 5,
     "metadata": {},
     "output_type": "execute_result"
    }
   ],
   "source": [
    "#calculate the Average TCP retransmission\n",
    "\n",
    "df['avg_tcp_retransmission'] = (df['TCP DL Retrans. Vol (Bytes)'] + df['TCP UL Retrans. Vol (Bytes)']) / 2\n",
    "df['avg_tcp_retransmission']"
   ]
  },
  {
   "cell_type": "code",
   "execution_count": 6,
   "id": "b744cae2",
   "metadata": {},
   "outputs": [
    {
     "data": {
      "text/plain": [
       "99530"
      ]
     },
     "execution_count": 6,
     "metadata": {},
     "output_type": "execute_result"
    }
   ],
   "source": [
    "df['avg_tcp_retransmission'].isnull().sum()"
   ]
  },
  {
   "cell_type": "code",
   "execution_count": 7,
   "id": "84d6a51a",
   "metadata": {},
   "outputs": [],
   "source": [
    "df['avg_tcp_retransmission'].fillna(df['avg_tcp_retransmission'].mean(), inplace=True)\n"
   ]
  },
  {
   "cell_type": "code",
   "execution_count": 8,
   "id": "16fd7d18",
   "metadata": {},
   "outputs": [
    {
     "data": {
      "text/plain": [
       "0"
      ]
     },
     "execution_count": 8,
     "metadata": {},
     "output_type": "execute_result"
    }
   ],
   "source": [
    "df['avg_tcp_retransmission'].isnull().sum()"
   ]
  },
  {
   "cell_type": "markdown",
   "id": "08e02851",
   "metadata": {},
   "source": [
    "# Average RTT"
   ]
  },
  {
   "cell_type": "code",
   "execution_count": 9,
   "id": "2b042bb8",
   "metadata": {},
   "outputs": [
    {
     "data": {
      "text/plain": [
       "0         23.5\n",
       "1         35.0\n",
       "2          NaN\n",
       "3          NaN\n",
       "4          NaN\n",
       "          ... \n",
       "149996    16.0\n",
       "149997    14.5\n",
       "149998    24.5\n",
       "149999    21.0\n",
       "150000     NaN\n",
       "Name: avg_rtt, Length: 150001, dtype: float64"
      ]
     },
     "execution_count": 9,
     "metadata": {},
     "output_type": "execute_result"
    }
   ],
   "source": [
    "# Calculate the average RTT\n",
    "\n",
    "df['avg_rtt'] = (df['Avg RTT DL (ms)'] + df['Avg RTT UL (ms)']) / 2\n",
    "df['avg_rtt']"
   ]
  },
  {
   "cell_type": "code",
   "execution_count": 10,
   "id": "41474212",
   "metadata": {},
   "outputs": [
    {
     "data": {
      "text/plain": [
       "0         23.500000\n",
       "1         35.000000\n",
       "2         63.512443\n",
       "3         63.512443\n",
       "4         63.512443\n",
       "            ...    \n",
       "149996    16.000000\n",
       "149997    14.500000\n",
       "149998    24.500000\n",
       "149999    21.000000\n",
       "150000    63.512443\n",
       "Name: avg_rtt, Length: 150001, dtype: float64"
      ]
     },
     "execution_count": 10,
     "metadata": {},
     "output_type": "execute_result"
    }
   ],
   "source": [
    "# fill the average RTT with mean method\n",
    "\n",
    "df['avg_rtt'].fillna(df['avg_rtt'].mean(), inplace=True)\n",
    "df['avg_rtt']"
   ]
  },
  {
   "cell_type": "markdown",
   "id": "914a378d",
   "metadata": {},
   "source": [
    "# Handset type"
   ]
  },
  {
   "cell_type": "code",
   "execution_count": 26,
   "id": "75d8d7aa",
   "metadata": {},
   "outputs": [
    {
     "data": {
      "text/html": [
       "<div>\n",
       "<style scoped>\n",
       "    .dataframe tbody tr th:only-of-type {\n",
       "        vertical-align: middle;\n",
       "    }\n",
       "\n",
       "    .dataframe tbody tr th {\n",
       "        vertical-align: top;\n",
       "    }\n",
       "\n",
       "    .dataframe thead th {\n",
       "        text-align: right;\n",
       "    }\n",
       "</style>\n",
       "<table border=\"1\" class=\"dataframe\">\n",
       "  <thead>\n",
       "    <tr style=\"text-align: right;\">\n",
       "      <th></th>\n",
       "      <th>Handset Type</th>\n",
       "    </tr>\n",
       "    <tr>\n",
       "      <th>MSISDN/Number</th>\n",
       "      <th></th>\n",
       "    </tr>\n",
       "  </thead>\n",
       "  <tbody>\n",
       "    <tr>\n",
       "      <th>3.360100e+10</th>\n",
       "      <td>Huawei P20 Lite Huawei Nova 3E</td>\n",
       "    </tr>\n",
       "    <tr>\n",
       "      <th>3.360100e+10</th>\n",
       "      <td>Apple iPhone 7 (A1778)</td>\n",
       "    </tr>\n",
       "    <tr>\n",
       "      <th>3.360100e+10</th>\n",
       "      <td>undefined</td>\n",
       "    </tr>\n",
       "    <tr>\n",
       "      <th>3.360101e+10</th>\n",
       "      <td>Apple iPhone 5S (A1457)</td>\n",
       "    </tr>\n",
       "    <tr>\n",
       "      <th>3.360101e+10</th>\n",
       "      <td>Apple iPhone Se (A1723)</td>\n",
       "    </tr>\n",
       "    <tr>\n",
       "      <th>...</th>\n",
       "      <td>...</td>\n",
       "    </tr>\n",
       "    <tr>\n",
       "      <th>3.379000e+10</th>\n",
       "      <td>Huawei Honor 9 Lite</td>\n",
       "    </tr>\n",
       "    <tr>\n",
       "      <th>3.379000e+10</th>\n",
       "      <td>Apple iPhone 8 Plus (A1897)</td>\n",
       "    </tr>\n",
       "    <tr>\n",
       "      <th>3.197021e+12</th>\n",
       "      <td>Quectel Wireless. Quectel Ec25-E</td>\n",
       "    </tr>\n",
       "    <tr>\n",
       "      <th>3.370000e+14</th>\n",
       "      <td>Huawei B525S-23A</td>\n",
       "    </tr>\n",
       "    <tr>\n",
       "      <th>8.823971e+14</th>\n",
       "      <td>Quectel Wireless. Quectel Ec21-E</td>\n",
       "    </tr>\n",
       "  </tbody>\n",
       "</table>\n",
       "<p>106856 rows × 1 columns</p>\n",
       "</div>"
      ],
      "text/plain": [
       "                                   Handset Type\n",
       "MSISDN/Number                                  \n",
       "3.360100e+10     Huawei P20 Lite Huawei Nova 3E\n",
       "3.360100e+10             Apple iPhone 7 (A1778)\n",
       "3.360100e+10                          undefined\n",
       "3.360101e+10            Apple iPhone 5S (A1457)\n",
       "3.360101e+10            Apple iPhone Se (A1723)\n",
       "...                                         ...\n",
       "3.379000e+10                Huawei Honor 9 Lite\n",
       "3.379000e+10        Apple iPhone 8 Plus (A1897)\n",
       "3.197021e+12   Quectel Wireless. Quectel Ec25-E\n",
       "3.370000e+14                   Huawei B525S-23A\n",
       "8.823971e+14   Quectel Wireless. Quectel Ec21-E\n",
       "\n",
       "[106856 rows x 1 columns]"
      ]
     },
     "execution_count": 26,
     "metadata": {},
     "output_type": "execute_result"
    }
   ],
   "source": [
    "handset_type = df.groupby('MSISDN/Number').agg({'Handset Type': lambda x: x.mode()[0]})\n",
    "\n",
    "handset_type"
   ]
  },
  {
   "cell_type": "markdown",
   "id": "589ab8e1",
   "metadata": {},
   "source": [
    "# Average throughput"
   ]
  },
  {
   "cell_type": "code",
   "execution_count": 22,
   "id": "f6323d32",
   "metadata": {},
   "outputs": [
    {
     "data": {
      "text/plain": [
       "0         33.5\n",
       "1         21.0\n",
       "2          7.5\n",
       "3         44.0\n",
       "4          7.5\n",
       "          ... \n",
       "149996    58.5\n",
       "149997    38.5\n",
       "149998    45.0\n",
       "149999    35.5\n",
       "150000     NaN\n",
       "Name: avg_throughput, Length: 150001, dtype: float64"
      ]
     },
     "execution_count": 22,
     "metadata": {},
     "output_type": "execute_result"
    }
   ],
   "source": [
    "# Calculate the average throughput\n",
    "df['avg_throughput'] = (df['Avg Bearer TP DL (kbps)'] + df['Avg Bearer TP UL (kbps)']) / 2\n",
    "df['avg_throughput']"
   ]
  },
  {
   "cell_type": "code",
   "execution_count": 23,
   "id": "3ddcd63c",
   "metadata": {},
   "outputs": [
    {
     "data": {
      "text/plain": [
       "0           33.500000\n",
       "1           21.000000\n",
       "2            7.500000\n",
       "3           44.000000\n",
       "4            7.500000\n",
       "             ...     \n",
       "149996      58.500000\n",
       "149997      38.500000\n",
       "149998      45.000000\n",
       "149999      35.500000\n",
       "150000    7535.237287\n",
       "Name: avg_throughput, Length: 150001, dtype: float64"
      ]
     },
     "execution_count": 23,
     "metadata": {},
     "output_type": "execute_result"
    }
   ],
   "source": [
    "df['avg_throughput'].fillna(df['avg_throughput'].mean(), inplace=True)\n",
    "df['avg_throughput']"
   ]
  },
  {
   "cell_type": "markdown",
   "id": "8e5b0976",
   "metadata": {},
   "source": [
    "# Task 3.2 - Compute & list 10 of the top, bottom and most frequent:\n",
    "    "
   ]
  },
  {
   "cell_type": "markdown",
   "id": "aace0a30",
   "metadata": {},
   "source": [
    "# TCP values in the dataset."
   ]
  },
  {
   "cell_type": "code",
   "execution_count": 30,
   "id": "d437424e",
   "metadata": {},
   "outputs": [
    {
     "name": "stdout",
     "output_type": "stream",
     "text": [
      "top10_tcp 97421     187763843.5\n",
      "85773     187493780.5\n",
      "115659    187194362.0\n",
      "121394    186210000.0\n",
      "121428    186137626.0\n",
      "61577     185210309.5\n",
      "79891     184979573.5\n",
      "17637     184383727.0\n",
      "61162     184112767.5\n",
      "3449      183635429.5\n",
      "Name: avg_tcp_retransmission, dtype: float64\n",
      "bottom10_tcp 143594    43.0\n",
      "111100    48.5\n",
      "18417     53.0\n",
      "13142     54.0\n",
      "97061     56.5\n",
      "8794      64.0\n",
      "99947     64.5\n",
      "83214     67.0\n",
      "95955     67.0\n",
      "12849     71.5\n",
      "Name: avg_tcp_retransmission, dtype: float64\n",
      "most_frequent_tcp 1.285848e+07    99530\n",
      "1.285848e+07      536\n",
      "1.330000e+03       29\n",
      "2.660000e+03       24\n",
      "3.325000e+03       20\n",
      "1.995000e+03       19\n",
      "3.990000e+03       14\n",
      "9.365000e+02       13\n",
      "7.980000e+03        9\n",
      "1.324000e+03        9\n",
      "Name: avg_tcp_retransmission, dtype: int64\n"
     ]
    }
   ],
   "source": [
    "# Compute and list the top, bottom, and most frequent TCP values\n",
    "\n",
    "top10_tcp = df.nlargest(10, 'avg_tcp_retransmission')['avg_tcp_retransmission']\n",
    "\n",
    "bottom10_tcp = df.nsmallest(10, 'avg_tcp_retransmission')['avg_tcp_retransmission']\n",
    "\n",
    "most_frequent_tcp = df['avg_tcp_retransmission'].value_counts().head(10)\n",
    "\n",
    "print('top10_tcp',top10_tcp)\n",
    "\n",
    "print('bottom10_tcp',bottom10_tcp)\n",
    "\n",
    "print('most_frequent_tcp',most_frequent_tcp)"
   ]
  },
  {
   "cell_type": "markdown",
   "id": "3ea3b0f1",
   "metadata": {},
   "source": [
    "# RTT values in the dataset."
   ]
  },
  {
   "cell_type": "code",
   "execution_count": 31,
   "id": "cbc5149c",
   "metadata": {},
   "outputs": [
    {
     "name": "stdout",
     "output_type": "stream",
     "text": [
      "top10_rtt : 133602    904.5\n",
      "145025    904.5\n",
      "19571     904.0\n",
      "117178    904.0\n",
      "22397     902.5\n",
      "110690    900.0\n",
      "56955     899.5\n",
      "90204     899.5\n",
      "125951    899.5\n",
      "92446     899.0\n",
      "Name: avg_rtt, dtype: float64\n",
      "bottom10_rtt 42602     0.0\n",
      "103321    0.0\n",
      "124538    0.0\n",
      "143878    0.0\n",
      "71738     1.0\n",
      "50966     2.0\n",
      "144923    2.0\n",
      "103544    2.5\n",
      "8756      3.0\n",
      "123210    3.0\n",
      "Name: avg_rtt, dtype: float64\n",
      "most_frequent_rtt 63.512443    27840\n",
      "14.500000     4993\n",
      "19.500000     4222\n",
      "19.000000     2761\n",
      "20.000000     2647\n",
      "15.000000     2592\n",
      "14.000000     2424\n",
      "24.500000     2219\n",
      "20.500000     1978\n",
      "15.500000     1960\n",
      "Name: avg_rtt, dtype: int64\n"
     ]
    }
   ],
   "source": [
    "# Compute and list the top, bottom, and most frequent RTT values\n",
    "\n",
    "top10_rtt = df.nlargest(10, 'avg_rtt')['avg_rtt']\n",
    "\n",
    "bottom10_rtt = df.nsmallest(10, 'avg_rtt')['avg_rtt']\n",
    "\n",
    "most_frequent_rtt = df['avg_rtt'].value_counts().head(10)\n",
    "\n",
    "print('top10_rtt :',top10_rtt)\n",
    "\n",
    "print('bottom10_rtt',bottom10_rtt)\n",
    "\n",
    "print('most_frequent_rtt',most_frequent_rtt)"
   ]
  },
  {
   "cell_type": "markdown",
   "id": "29c4f584",
   "metadata": {},
   "source": [
    "# Throughput values in the dataset."
   ]
  },
  {
   "cell_type": "code",
   "execution_count": 32,
   "id": "da9a66a4",
   "metadata": {},
   "outputs": [
    {
     "name": "stdout",
     "output_type": "stream",
     "text": [
      "top10_throughput 37833     47764.5\n",
      "11646     47762.5\n",
      "35600     47748.5\n",
      "66672     47745.5\n",
      "37286     47745.0\n",
      "142394    47745.0\n",
      "102580    47738.5\n",
      "138212    47735.0\n",
      "133498    47732.0\n",
      "2525      47730.0\n",
      "Name: avg_throughput, dtype: float64\n",
      "bottom10_throughput 148     0.0\n",
      "614     0.0\n",
      "2460    0.0\n",
      "3893    0.0\n",
      "4129    0.0\n",
      "4822    0.0\n",
      "5796    0.0\n",
      "5961    0.0\n",
      "6135    0.0\n",
      "7186    0.0\n",
      "Name: avg_throughput, dtype: float64\n",
      "most_frequent_throughput 31.500000      3886\n",
      "7.500000       3741\n",
      "7535.237287    2989\n",
      "48.500000      1945\n",
      "45.000000      1885\n",
      "49.000000      1801\n",
      "48.000000      1671\n",
      "49.500000      1571\n",
      "44.500000      1557\n",
      "45.500000      1520\n",
      "Name: avg_throughput, dtype: int64\n"
     ]
    }
   ],
   "source": [
    "top10_throughput = df.nlargest(10, 'avg_throughput')['avg_throughput']\n",
    "\n",
    "bottom10_throughput = df.nsmallest(10, 'avg_throughput')['avg_throughput']\n",
    "\n",
    "most_frequent_throughput = df['avg_throughput'].value_counts().head(10)\n",
    "\n",
    "print('top10_throughput',top10_throughput)\n",
    "\n",
    "print('bottom10_throughput',bottom10_throughput)\n",
    "\n",
    "print('most_frequent_throughput',most_frequent_throughput)\n",
    "\n"
   ]
  },
  {
   "cell_type": "markdown",
   "id": "1f4e96f8",
   "metadata": {},
   "source": [
    "# Task 3.3 - Compute & report:\n",
    "    \n",
    "The distribution of the average throughput per handset type and provide interpretation for your findings.\n"
   ]
  },
  {
   "cell_type": "code",
   "execution_count": 33,
   "id": "b45f92d2",
   "metadata": {},
   "outputs": [
    {
     "data": {
      "text/plain": [
       "Handset Type\n",
       "A-Link Telecom I. Cubot A5                                                             11755.000000\n",
       "A-Link Telecom I. Cubot Note Plus                                                       3349.500000\n",
       "A-Link Telecom I. Cubot Note S                                                          4468.500000\n",
       "A-Link Telecom I. Cubot Nova                                                           28108.500000\n",
       "A-Link Telecom I. Cubot Power                                                          34734.000000\n",
       "                                                                                           ...     \n",
       "Zte Zte Blade C2 Smartphone Android By Sfr Startrail 4 Zte Blade Flex T809 Zte T809       29.000000\n",
       "Zyxel Communicat. Lte7460                                                              30978.000000\n",
       "Zyxel Communicat. Sbg3600                                                               7535.237287\n",
       "Zyxel Communicat. Zyxel Wah7706                                                         1086.500000\n",
       "undefined                                                                               4131.333635\n",
       "Name: avg_throughput, Length: 1396, dtype: float64"
      ]
     },
     "execution_count": 33,
     "metadata": {},
     "output_type": "execute_result"
    }
   ],
   "source": [
    "# Compute the distribution of the average throughput per handset type\n",
    "\n",
    "throughput_per_handset = df.groupby('Handset Type')['avg_throughput'].mean()\n",
    "\n",
    "throughput_per_handset"
   ]
  },
  {
   "cell_type": "code",
   "execution_count": 34,
   "id": "b36946f7",
   "metadata": {},
   "outputs": [
    {
     "data": {
      "text/plain": [
       "Handset Type\n",
       "Huawei Y9 2019                            45869.500000\n",
       "Spa Condor Elect. Allure M2               42155.750000\n",
       "Ovvi-Cellphone T. Echo                    39476.500000\n",
       "Huawei Pele                               39190.500000\n",
       "Spa Condor Elect. Plume L2                38264.500000\n",
       "Shenzhen Leagoo. Leagoo S8                38054.000000\n",
       "New-Bund Technol. Thor                    37814.833333\n",
       "Doke Communicati. Blackview Bv6800 Pro    36729.500000\n",
       "Xiaomi Communica. M1803E1A                36332.500000\n",
       "Oppo Cph1723                              35334.000000\n",
       "Name: avg_throughput, dtype: float64"
      ]
     },
     "execution_count": 34,
     "metadata": {},
     "output_type": "execute_result"
    }
   ],
   "source": [
    "top10_throughput_per_handset=throughput_per_handset.nlargest(10)\n",
    "\n",
    "top10_throughput_per_handset"
   ]
  },
  {
   "cell_type": "code",
   "execution_count": 39,
   "id": "8a36a27e",
   "metadata": {},
   "outputs": [
    {
     "data": {
      "image/png": "[encoded data removed]",
      "text/plain": [
       "<Figure size 640x480 with 1 Axes>"
      ]
     },
     "metadata": {},
     "output_type": "display_data"
    }
   ],
   "source": [
    "top10_throughput_per_handset.plot(kind='bar',color ='violet',ec ='black')\n",
    "\n",
    "# Add axis labels and a title\n",
    "\n",
    "plt.xlabel('Handset Type')\n",
    "plt.ylabel('Average Throughput')\n",
    "\n",
    "plt.title('Average Throughput by Handset Type')\n",
    "\n",
    "plt.show()"
   ]
  },
  {
   "cell_type": "markdown",
   "id": "2597b94f",
   "metadata": {},
   "source": [
    "# e.The average TCP retransmission view per handset type and provide interpretation for your findings.\n",
    "\n"
   ]
  },
  {
   "cell_type": "code",
   "execution_count": 40,
   "id": "e407825b",
   "metadata": {},
   "outputs": [
    {
     "data": {
      "text/plain": [
       "Handset Type\n",
       "A-Link Telecom I. Cubot A5                                                             1.285848e+07\n",
       "A-Link Telecom I. Cubot Note Plus                                                      3.081065e+05\n",
       "A-Link Telecom I. Cubot Note S                                                         2.070587e+07\n",
       "A-Link Telecom I. Cubot Nova                                                           6.858500e+04\n",
       "A-Link Telecom I. Cubot Power                                                          4.020500e+03\n",
       "                                                                                           ...     \n",
       "Zte Zte Blade C2 Smartphone Android By Sfr Startrail 4 Zte Blade Flex T809 Zte T809    1.285848e+07\n",
       "Zyxel Communicat. Lte7460                                                              2.063827e+07\n",
       "Zyxel Communicat. Sbg3600                                                              2.674347e+07\n",
       "Zyxel Communicat. Zyxel Wah7706                                                        1.285848e+07\n",
       "undefined                                                                              1.050936e+07\n",
       "Name: avg_tcp_retransmission, Length: 1396, dtype: float64"
      ]
     },
     "execution_count": 40,
     "metadata": {},
     "output_type": "execute_result"
    }
   ],
   "source": [
    "# e. Compute the average TCP retransmission view per handset type\n",
    "\n",
    "tcp_per_handset = df.groupby('Handset Type')['avg_tcp_retransmission'].mean()\n",
    "\n",
    "tcp_per_handset "
   ]
  },
  {
   "cell_type": "code",
   "execution_count": 41,
   "id": "aaa4e986",
   "metadata": {},
   "outputs": [
    {
     "name": "stdout",
     "output_type": "stream",
     "text": [
      "Handset Type\n",
      "Huawei Bln-Al10                               1.645873e+08\n",
      "Samsung Galaxy J8 2018                        5.787917e+07\n",
      "Dynamic Tech Hol. D-Mobile I3 I5 I7 I8 I9     5.329110e+07\n",
      "Xiaomi Communica. Mi 6                        3.769354e+07\n",
      "Huawei Y7 Prime 2018                          3.265211e+07\n",
      "Huawei E587 E587U-2 Turkcell Vinnwifi E587    3.154270e+07\n",
      "Samsung Galaxy J5                             3.084644e+07\n",
      "Zyxel Communicat. Sbg3600                     2.674347e+07\n",
      "Samsung Galaxy Core 2 (Sm-G355X)              2.327950e+07\n",
      "Sierra Wireless Usb305                        2.166248e+07\n",
      "Name: avg_tcp_retransmission, dtype: float64\n"
     ]
    }
   ],
   "source": [
    "top10_tcp_per_handset = tcp_per_handset.nlargest(10)\n",
    "\n",
    "print(top10_tcp_per_handset)"
   ]
  },
  {
   "cell_type": "code",
   "execution_count": 48,
   "id": "e0fc505f",
   "metadata": {},
   "outputs": [
    {
     "data": {
      "image/png": "[encoded data removed]",
      "text/plain": [
       "<Figure size 640x480 with 1 Axes>"
      ]
     },
     "metadata": {},
     "output_type": "display_data"
    }
   ],
   "source": [
    "top10_tcp_per_handset.plot(kind='bar',color ='magenta',ec= 'green')\n",
    "\n",
    "# Add axis labels and a title\n",
    "\n",
    "plt.xlabel('Handset Type')\n",
    "\n",
    "plt.ylabel('Average TCP Retransmission')\n",
    "\n",
    "plt.title('Average TCP Retransmission by Handset Type')\n",
    "\n",
    "plt.show()"
   ]
  },
  {
   "cell_type": "markdown",
   "id": "6aee6732",
   "metadata": {},
   "source": [
    "This code snippet will compute the average TCP retransmission view per handset type by calculating the mean of \n",
    "\n",
    "TCP retransmissions for each handset type.\n",
    "\n",
    "Interpreting the findings:\n",
    "\n",
    "Handset Type Comparison: Analyzing the average TCP retransmission view per handset type provides insights into the\n",
    "    \n",
    "    performance of different device models or types. For example, if certain handset types exhibit notably higher average\n",
    "    \n",
    "    retransmission rates compared to others, it could indicate potential issues with network compatibility or hardware\n",
    "     \n",
    "        limitations for those specific devices.\n",
    "\n",
    "Network Efficiency: Handset types with lower average TCP retransmission views might indicate more efficient network usage \n",
    "    \n",
    "    or better handling of data transmissions. This could imply that certain devices perform better in maintaining stable \n",
    "     \n",
    "        connections and handling data packets without requiring frequent retransmissions.\n",
    "\n",
    "Optimization Opportunities: Higher average retransmission views for specific handset types might signal areas for \n",
    "    \n",
    "    optimization or improvement. For instance, it could prompt further investigation into network configurations,\n",
    "    \n",
    "    compatibility issues with certain devices, or potential software updates aimed at reducing retransmission rates\n",
    "    \n",
    "    for those devices.\n",
    "\n",
    "User Experience Impact: Devices experiencing high TCP retransmissions might lead to degraded user experiences,\n",
    "    \n",
    "    such as slower data transmission or increased latency. Understanding which handset types are associated with higher\n",
    "    \n",
    "    retransmission rates can help prioritize optimizations to enhance the overall user experience on those devices.\n",
    "\n",
    "Interpreting these findings can offer valuable insights into network performance, device behavior, and potential \n",
    "\n",
    "optimization areas to improve network efficiency and user experience based on handset types.\n",
    "\n",
    "\n",
    "\n",
    "\n",
    "\n"
   ]
  },
  {
   "cell_type": "markdown",
   "id": "c0965f18",
   "metadata": {},
   "source": [
    "# Task 3.4 - Using the experience metrics above, perform a k-means clustering (where k = 3) to segment users\n",
    "into groups of experiences and provide a brief description of each cluster. (The description must define each \n",
    "group based on your understanding of the data)\n"
   ]
  },
  {
   "cell_type": "code",
   "execution_count": 49,
   "id": "9f40981e",
   "metadata": {},
   "outputs": [
    {
     "name": "stdout",
     "output_type": "stream",
     "text": [
      "Bearer Id                                        0\n",
      "Start                                            1\n",
      "Start ms                                         1\n",
      "End                                              1\n",
      "End ms                                           1\n",
      "Dur. (ms)                                        1\n",
      "IMSI                                           570\n",
      "MSISDN/Number                                 1066\n",
      "IMEI                                           572\n",
      "Last Location Name                            1153\n",
      "Avg RTT DL (ms)                              27829\n",
      "Avg RTT UL (ms)                              27812\n",
      "Avg Bearer TP DL (kbps)                          1\n",
      "Avg Bearer TP UL (kbps)                          1\n",
      "TCP DL Retrans. Vol (Bytes)                  88146\n",
      "TCP UL Retrans. Vol (Bytes)                  96649\n",
      "DL TP < 50 Kbps (%)                            754\n",
      "50 Kbps < DL TP < 250 Kbps (%)                 754\n",
      "250 Kbps < DL TP < 1 Mbps (%)                  754\n",
      "DL TP > 1 Mbps (%)                             754\n",
      "UL TP < 10 Kbps (%)                            792\n",
      "10 Kbps < UL TP < 50 Kbps (%)                  792\n",
      "50 Kbps < UL TP < 300 Kbps (%)                 792\n",
      "UL TP > 300 Kbps (%)                           792\n",
      "HTTP DL (Bytes)                              81474\n",
      "HTTP UL (Bytes)                              81810\n",
      "Activity Duration DL (ms)                        1\n",
      "Activity Duration UL (ms)                        1\n",
      "Dur. (ms).1                                      1\n",
      "Handset Manufacturer                           572\n",
      "Handset Type                                   572\n",
      "Nb of sec with 125000B < Vol DL              97538\n",
      "Nb of sec with 1250B < Vol UL < 6250B        92894\n",
      "Nb of sec with 31250B < Vol DL < 125000B     93586\n",
      "Nb of sec with 37500B < Vol UL              130254\n",
      "Nb of sec with 6250B < Vol DL < 31250B       88317\n",
      "Nb of sec with 6250B < Vol UL < 37500B      111843\n",
      "Nb of sec with Vol DL < 6250B                  755\n",
      "Nb of sec with Vol UL < 1250B                  793\n",
      "Social Media DL (Bytes)                          0\n",
      "Social Media UL (Bytes)                          0\n",
      "Google DL (Bytes)                                0\n",
      "Google UL (Bytes)                                0\n",
      "Email DL (Bytes)                                 0\n",
      "Email UL (Bytes)                                 0\n",
      "Youtube DL (Bytes)                               0\n",
      "Youtube UL (Bytes)                               0\n",
      "Netflix DL (Bytes)                               0\n",
      "Netflix UL (Bytes)                               0\n",
      "Gaming DL (Bytes)                                0\n",
      "Gaming UL (Bytes)                                0\n",
      "Other DL (Bytes)                                 0\n",
      "Other UL (Bytes)                                 0\n",
      "Total UL (Bytes)                                 1\n",
      "Total DL (Bytes)                                 1\n",
      "avg_tcp_retransmission                           0\n",
      "avg_rtt                                          0\n",
      "avg_throughput                                   0\n",
      "dtype: int64\n"
     ]
    }
   ],
   "source": [
    "#Check for missing values\n",
    "\n",
    "print(df.isna().sum())"
   ]
  },
  {
   "cell_type": "code",
   "execution_count": 61,
   "id": "bd175493",
   "metadata": {},
   "outputs": [
    {
     "data": {
      "text/html": [
       "<div>\n",
       "<style scoped>\n",
       "    .dataframe tbody tr th:only-of-type {\n",
       "        vertical-align: middle;\n",
       "    }\n",
       "\n",
       "    .dataframe tbody tr th {\n",
       "        vertical-align: top;\n",
       "    }\n",
       "\n",
       "    .dataframe thead th {\n",
       "        text-align: right;\n",
       "    }\n",
       "</style>\n",
       "<table border=\"1\" class=\"dataframe\">\n",
       "  <thead>\n",
       "    <tr style=\"text-align: right;\">\n",
       "      <th></th>\n",
       "      <th>Bearer Id</th>\n",
       "      <th>Start</th>\n",
       "      <th>Start ms</th>\n",
       "      <th>End</th>\n",
       "      <th>End ms</th>\n",
       "      <th>Dur. (ms)</th>\n",
       "      <th>IMSI</th>\n",
       "      <th>MSISDN/Number</th>\n",
       "      <th>IMEI</th>\n",
       "      <th>Last Location Name</th>\n",
       "      <th>...</th>\n",
       "      <th>Gaming DL (Bytes)</th>\n",
       "      <th>Gaming UL (Bytes)</th>\n",
       "      <th>Other DL (Bytes)</th>\n",
       "      <th>Other UL (Bytes)</th>\n",
       "      <th>Total UL (Bytes)</th>\n",
       "      <th>Total DL (Bytes)</th>\n",
       "      <th>avg_tcp_retransmission</th>\n",
       "      <th>avg_rtt</th>\n",
       "      <th>avg_throughput</th>\n",
       "      <th>cluster</th>\n",
       "    </tr>\n",
       "  </thead>\n",
       "  <tbody>\n",
       "    <tr>\n",
       "      <th>0</th>\n",
       "      <td>13114483460844900352</td>\n",
       "      <td>2019-04-04 12:01:18</td>\n",
       "      <td>770.0</td>\n",
       "      <td>2019-04-25 14:35:31</td>\n",
       "      <td>662.0</td>\n",
       "      <td>1823652.0</td>\n",
       "      <td>2.082014e+14</td>\n",
       "      <td>3.366496e+10</td>\n",
       "      <td>3.552121e+13</td>\n",
       "      <td>9164566995485190</td>\n",
       "      <td>...</td>\n",
       "      <td>278082303.0</td>\n",
       "      <td>14344150.0</td>\n",
       "      <td>171744450.0</td>\n",
       "      <td>8814393.0</td>\n",
       "      <td>36749741.0</td>\n",
       "      <td>308879636.0</td>\n",
       "      <td>1.285848e+07</td>\n",
       "      <td>23.500000</td>\n",
       "      <td>33.5</td>\n",
       "      <td>0</td>\n",
       "    </tr>\n",
       "    <tr>\n",
       "      <th>1</th>\n",
       "      <td>13114483482878900224</td>\n",
       "      <td>2019-04-09 13:04:04</td>\n",
       "      <td>235.0</td>\n",
       "      <td>2019-04-25 08:15:48</td>\n",
       "      <td>606.0</td>\n",
       "      <td>1365104.0</td>\n",
       "      <td>2.082019e+14</td>\n",
       "      <td>3.368185e+10</td>\n",
       "      <td>3.579401e+13</td>\n",
       "      <td>L77566A</td>\n",
       "      <td>...</td>\n",
       "      <td>608750074.0</td>\n",
       "      <td>1170709.0</td>\n",
       "      <td>526904238.0</td>\n",
       "      <td>15055145.0</td>\n",
       "      <td>53800391.0</td>\n",
       "      <td>653384965.0</td>\n",
       "      <td>1.285848e+07</td>\n",
       "      <td>35.000000</td>\n",
       "      <td>21.0</td>\n",
       "      <td>0</td>\n",
       "    </tr>\n",
       "    <tr>\n",
       "      <th>2</th>\n",
       "      <td>13114483484080500736</td>\n",
       "      <td>2019-04-09 17:42:11</td>\n",
       "      <td>1.0</td>\n",
       "      <td>2019-04-25 11:58:13</td>\n",
       "      <td>652.0</td>\n",
       "      <td>1361762.0</td>\n",
       "      <td>2.082003e+14</td>\n",
       "      <td>3.376063e+10</td>\n",
       "      <td>3.528151e+13</td>\n",
       "      <td>D42335A</td>\n",
       "      <td>...</td>\n",
       "      <td>229584621.0</td>\n",
       "      <td>395630.0</td>\n",
       "      <td>410692588.0</td>\n",
       "      <td>4215763.0</td>\n",
       "      <td>27883638.0</td>\n",
       "      <td>279807335.0</td>\n",
       "      <td>1.285848e+07</td>\n",
       "      <td>63.512443</td>\n",
       "      <td>7.5</td>\n",
       "      <td>0</td>\n",
       "    </tr>\n",
       "    <tr>\n",
       "      <th>3</th>\n",
       "      <td>13114483485442799616</td>\n",
       "      <td>2019-04-10 00:31:25</td>\n",
       "      <td>486.0</td>\n",
       "      <td>2019-04-25 07:36:35</td>\n",
       "      <td>171.0</td>\n",
       "      <td>1321509.0</td>\n",
       "      <td>2.082014e+14</td>\n",
       "      <td>3.375034e+10</td>\n",
       "      <td>3.535661e+13</td>\n",
       "      <td>T21824A</td>\n",
       "      <td>...</td>\n",
       "      <td>799538153.0</td>\n",
       "      <td>10849722.0</td>\n",
       "      <td>749039933.0</td>\n",
       "      <td>12797283.0</td>\n",
       "      <td>43324218.0</td>\n",
       "      <td>846028530.0</td>\n",
       "      <td>1.285848e+07</td>\n",
       "      <td>63.512443</td>\n",
       "      <td>44.0</td>\n",
       "      <td>0</td>\n",
       "    </tr>\n",
       "    <tr>\n",
       "      <th>4</th>\n",
       "      <td>13114483499480700928</td>\n",
       "      <td>2019-04-12 20:10:23</td>\n",
       "      <td>565.0</td>\n",
       "      <td>2019-04-25 10:40:32</td>\n",
       "      <td>954.0</td>\n",
       "      <td>1089009.0</td>\n",
       "      <td>2.082014e+14</td>\n",
       "      <td>3.369980e+10</td>\n",
       "      <td>3.540701e+13</td>\n",
       "      <td>D88865A</td>\n",
       "      <td>...</td>\n",
       "      <td>527707248.0</td>\n",
       "      <td>3529801.0</td>\n",
       "      <td>550709500.0</td>\n",
       "      <td>13910322.0</td>\n",
       "      <td>38542814.0</td>\n",
       "      <td>569138589.0</td>\n",
       "      <td>1.285848e+07</td>\n",
       "      <td>63.512443</td>\n",
       "      <td>7.5</td>\n",
       "      <td>0</td>\n",
       "    </tr>\n",
       "  </tbody>\n",
       "</table>\n",
       "<p>5 rows × 59 columns</p>\n",
       "</div>"
      ],
      "text/plain": [
       "              Bearer Id               Start  Start ms                 End  \\\n",
       "0  13114483460844900352 2019-04-04 12:01:18     770.0 2019-04-25 14:35:31   \n",
       "1  13114483482878900224 2019-04-09 13:04:04     235.0 2019-04-25 08:15:48   \n",
       "2  13114483484080500736 2019-04-09 17:42:11       1.0 2019-04-25 11:58:13   \n",
       "3  13114483485442799616 2019-04-10 00:31:25     486.0 2019-04-25 07:36:35   \n",
       "4  13114483499480700928 2019-04-12 20:10:23     565.0 2019-04-25 10:40:32   \n",
       "\n",
       "   End ms  Dur. (ms)          IMSI  MSISDN/Number          IMEI  \\\n",
       "0   662.0  1823652.0  2.082014e+14   3.366496e+10  3.552121e+13   \n",
       "1   606.0  1365104.0  2.082019e+14   3.368185e+10  3.579401e+13   \n",
       "2   652.0  1361762.0  2.082003e+14   3.376063e+10  3.528151e+13   \n",
       "3   171.0  1321509.0  2.082014e+14   3.375034e+10  3.535661e+13   \n",
       "4   954.0  1089009.0  2.082014e+14   3.369980e+10  3.540701e+13   \n",
       "\n",
       "  Last Location Name  ...  Gaming DL (Bytes)  Gaming UL (Bytes)  \\\n",
       "0   9164566995485190  ...        278082303.0         14344150.0   \n",
       "1            L77566A  ...        608750074.0          1170709.0   \n",
       "2            D42335A  ...        229584621.0           395630.0   \n",
       "3            T21824A  ...        799538153.0         10849722.0   \n",
       "4            D88865A  ...        527707248.0          3529801.0   \n",
       "\n",
       "   Other DL (Bytes)  Other UL (Bytes)  Total UL (Bytes)  Total DL (Bytes)  \\\n",
       "0       171744450.0         8814393.0        36749741.0       308879636.0   \n",
       "1       526904238.0        15055145.0        53800391.0       653384965.0   \n",
       "2       410692588.0         4215763.0        27883638.0       279807335.0   \n",
       "3       749039933.0        12797283.0        43324218.0       846028530.0   \n",
       "4       550709500.0        13910322.0        38542814.0       569138589.0   \n",
       "\n",
       "   avg_tcp_retransmission    avg_rtt  avg_throughput  cluster  \n",
       "0            1.285848e+07  23.500000            33.5        0  \n",
       "1            1.285848e+07  35.000000            21.0        0  \n",
       "2            1.285848e+07  63.512443             7.5        0  \n",
       "3            1.285848e+07  63.512443            44.0        0  \n",
       "4            1.285848e+07  63.512443             7.5        0  \n",
       "\n",
       "[5 rows x 59 columns]"
      ]
     },
     "execution_count": 61,
     "metadata": {},
     "output_type": "execute_result"
    }
   ],
   "source": [
    "#Fill missing values with the mean of the column\n",
    "\n",
    "df.fillna(df[['avg_tcp_retransmission','avg_rtt','avg_throughput' ]].mean(), inplace=True)\n",
    "\n",
    "df.head(5)"
   ]
  },
  {
   "cell_type": "code",
   "execution_count": 56,
   "id": "3b8d67e9",
   "metadata": {},
   "outputs": [
    {
     "data": {
      "text/html": [
       "<div>\n",
       "<style scoped>\n",
       "    .dataframe tbody tr th:only-of-type {\n",
       "        vertical-align: middle;\n",
       "    }\n",
       "\n",
       "    .dataframe tbody tr th {\n",
       "        vertical-align: top;\n",
       "    }\n",
       "\n",
       "    .dataframe thead th {\n",
       "        text-align: right;\n",
       "    }\n",
       "</style>\n",
       "<table border=\"1\" class=\"dataframe\">\n",
       "  <thead>\n",
       "    <tr style=\"text-align: right;\">\n",
       "      <th></th>\n",
       "      <th>avg_tcp_retransmission</th>\n",
       "      <th>avg_rtt</th>\n",
       "      <th>avg_throughput</th>\n",
       "    </tr>\n",
       "  </thead>\n",
       "  <tbody>\n",
       "    <tr>\n",
       "      <th>0</th>\n",
       "      <td>0.068482</td>\n",
       "      <td>0.025981</td>\n",
       "      <td>0.000701</td>\n",
       "    </tr>\n",
       "    <tr>\n",
       "      <th>1</th>\n",
       "      <td>0.068482</td>\n",
       "      <td>0.038695</td>\n",
       "      <td>0.000440</td>\n",
       "    </tr>\n",
       "    <tr>\n",
       "      <th>2</th>\n",
       "      <td>0.068482</td>\n",
       "      <td>0.070218</td>\n",
       "      <td>0.000157</td>\n",
       "    </tr>\n",
       "    <tr>\n",
       "      <th>3</th>\n",
       "      <td>0.068482</td>\n",
       "      <td>0.070218</td>\n",
       "      <td>0.000921</td>\n",
       "    </tr>\n",
       "    <tr>\n",
       "      <th>4</th>\n",
       "      <td>0.068482</td>\n",
       "      <td>0.070218</td>\n",
       "      <td>0.000157</td>\n",
       "    </tr>\n",
       "    <tr>\n",
       "      <th>...</th>\n",
       "      <td>...</td>\n",
       "      <td>...</td>\n",
       "      <td>...</td>\n",
       "    </tr>\n",
       "    <tr>\n",
       "      <th>149996</th>\n",
       "      <td>0.068482</td>\n",
       "      <td>0.017689</td>\n",
       "      <td>0.001225</td>\n",
       "    </tr>\n",
       "    <tr>\n",
       "      <th>149997</th>\n",
       "      <td>0.068482</td>\n",
       "      <td>0.016031</td>\n",
       "      <td>0.000806</td>\n",
       "    </tr>\n",
       "    <tr>\n",
       "      <th>149998</th>\n",
       "      <td>0.068482</td>\n",
       "      <td>0.027087</td>\n",
       "      <td>0.000942</td>\n",
       "    </tr>\n",
       "    <tr>\n",
       "      <th>149999</th>\n",
       "      <td>0.068482</td>\n",
       "      <td>0.023217</td>\n",
       "      <td>0.000743</td>\n",
       "    </tr>\n",
       "    <tr>\n",
       "      <th>150000</th>\n",
       "      <td>0.068482</td>\n",
       "      <td>0.070218</td>\n",
       "      <td>0.157758</td>\n",
       "    </tr>\n",
       "  </tbody>\n",
       "</table>\n",
       "<p>150001 rows × 3 columns</p>\n",
       "</div>"
      ],
      "text/plain": [
       "        avg_tcp_retransmission   avg_rtt  avg_throughput\n",
       "0                     0.068482  0.025981        0.000701\n",
       "1                     0.068482  0.038695        0.000440\n",
       "2                     0.068482  0.070218        0.000157\n",
       "3                     0.068482  0.070218        0.000921\n",
       "4                     0.068482  0.070218        0.000157\n",
       "...                        ...       ...             ...\n",
       "149996                0.068482  0.017689        0.001225\n",
       "149997                0.068482  0.016031        0.000806\n",
       "149998                0.068482  0.027087        0.000942\n",
       "149999                0.068482  0.023217        0.000743\n",
       "150000                0.068482  0.070218        0.157758\n",
       "\n",
       "[150001 rows x 3 columns]"
      ]
     },
     "execution_count": 56,
     "metadata": {},
     "output_type": "execute_result"
    }
   ],
   "source": [
    "\n",
    "from sklearn.cluster import KMeans\n",
    "\n",
    "from sklearn.preprocessing import StandardScaler,MinMaxScaler\n",
    "\n",
    "# Normalize the experience  metrics\n",
    "\n",
    "scaler = MinMaxScaler()\n",
    "\n",
    "normalized_df = pd.DataFrame(scaler.fit_transform(df[['avg_tcp_retransmission', 'avg_rtt', 'avg_throughput']]),\n",
    "                             \n",
    "                             columns=['avg_tcp_retransmission', 'avg_rtt', 'avg_throughput'], index=df.index)\n",
    "normalized_df"
   ]
  },
  {
   "cell_type": "code",
   "execution_count": 59,
   "id": "3958539f",
   "metadata": {},
   "outputs": [
    {
     "data": {
      "text/plain": [
       "0         0\n",
       "1         0\n",
       "2         0\n",
       "3         0\n",
       "4         0\n",
       "         ..\n",
       "149996    0\n",
       "149997    0\n",
       "149998    0\n",
       "149999    0\n",
       "150000    0\n",
       "Name: cluster, Length: 150001, dtype: int32"
      ]
     },
     "execution_count": 59,
     "metadata": {},
     "output_type": "execute_result"
    }
   ],
   "source": [
    "# Run k-means clustering with k=3\n",
    "\n",
    "kmeans = KMeans(n_clusters=3)\n",
    "\n",
    "kmeans.fit(normalized_df)\n",
    "\n",
    "df['cluster'] = kmeans.labels_\n",
    "\n",
    "df['cluster']"
   ]
  },
  {
   "cell_type": "code",
   "execution_count": 60,
   "id": "37c173b8",
   "metadata": {},
   "outputs": [
    {
     "data": {
      "text/plain": [
       "array([0, 0, 0, ..., 0, 0, 0])"
      ]
     },
     "execution_count": 60,
     "metadata": {},
     "output_type": "execute_result"
    }
   ],
   "source": [
    "kmeans.labels_"
   ]
  },
  {
   "cell_type": "code",
   "execution_count": 62,
   "id": "b7c0ca90",
   "metadata": {},
   "outputs": [
    {
     "name": "stdout",
     "output_type": "stream",
     "text": [
      "Cluster 0:\n",
      "  Size: 109614\n",
      "  Average TCP Retransmission: 11630863.141832968\n",
      "  Average RTT: 48.645988156713905\n",
      "  Average Throughput: 847.5114779106074\n",
      "Cluster 1:\n",
      "  Size: 14343\n",
      "  Average TCP Retransmission: 7116370.405693417\n",
      "  Average RTT: 49.66239274081711\n",
      "  Average Throughput: 32736.19005786795\n",
      "Cluster 2:\n",
      "  Size: 26044\n",
      "  Average TCP Retransmission: 5159731.846833112\n",
      "  Average RTT: 61.756849787549136\n",
      "  Average Throughput: 15479.66905419444\n"
     ]
    }
   ],
   "source": [
    "# Describe each cluster\n",
    "\n",
    "for i in range(3):\n",
    "    \n",
    "    cluster_df = df[df['cluster'] == i]\n",
    "    \n",
    "    print(f'Cluster {i}:')\n",
    "    \n",
    "    print(f'  Size: {len(cluster_df)}')\n",
    "    \n",
    "    print(f'  Average TCP Retransmission: {cluster_df[\"avg_tcp_retransmission\"].mean()}')\n",
    "    \n",
    "    print(f'  Average RTT: {cluster_df[\"avg_rtt\"].mean()}')\n",
    "    \n",
    "    print(f'  Average Throughput: {cluster_df[\"avg_throughput\"].mean()}')\n",
    "    \n"
   ]
  },
  {
   "cell_type": "code",
   "execution_count": 67,
   "id": "25f987bc",
   "metadata": {},
   "outputs": [
    {
     "data": {
      "image/png": "[encoded data removed]",
      "text/plain": [
       "<Figure size 640x480 with 1 Axes>"
      ]
     },
     "metadata": {},
     "output_type": "display_data"
    }
   ],
   "source": [
    "fig, ax = plt.subplots()\n",
    "\n",
    "colors = ['y', 'r', 'g']\n",
    "\n",
    "for i in range(3):\n",
    "    \n",
    "    cluster_df = df[df['cluster'] == i]\n",
    "    \n",
    "    x = cluster_df['avg_rtt']\n",
    "    \n",
    "    y = cluster_df['avg_throughput']\n",
    "    \n",
    "    ax.scatter(x, y, c=colors[i], label=f'Cluster {i}')\n",
    "\n",
    "ax.set_xlabel('Average RTT')\n",
    "\n",
    "ax.set_ylabel('Average Throughput')\n",
    "\n",
    "ax.legend()\n",
    "\n",
    "plt.show()\n"
   ]
  },
  {
   "cell_type": "markdown",
   "id": "9c4c91ce",
   "metadata": {},
   "source": [
    "To interpret the clusters:\n",
    "\n",
    "Cluster 0: Users in this cluster might exhibit high interaction frequency, moderate to high ratings, and shorter\n",
    "    \n",
    "            session durations. They might prefer quick engagements and could be considered frequent but possibly less \n",
    "           \n",
    "            engaged users overall.\n",
    "\n",
    "Cluster 1: This cluster could represent users with longer session durations, high ratings, and moderate interaction\n",
    "    \n",
    "            frequency. These users might engage deeply and consistently, spending more time and showing high satisfaction\n",
    "        \n",
    "            with the platform or service.\n",
    "\n",
    "Cluster 2: Users in this cluster might have low interaction frequency, lower ratings, and shorter session durations.\n",
    "    \n",
    "           They might represent users who sporadically engage, spending less time and showing lower overall satisfaction or \n",
    "        \n",
    "           interest in the platform.\n",
    "\n",
    "This interpretation is based on characteristics of each cluster and assumes patterns in user behavior related \n",
    "\n",
    "to the experience metrics. Actual interpretations might vary based on the nature of the data and the specific metrics used \n",
    "\n",
    "for clustering."
   ]
  },
  {
   "cell_type": "code",
   "execution_count": null,
   "id": "458f1573",
   "metadata": {},
   "outputs": [],
   "source": []
  }
 ],
 "metadata": {
  "kernelspec": {
   "display_name": "Python 3 (ipykernel)",
   "language": "python",
   "name": "python3"
  },
  "language_info": {
   "codemirror_mode": {
    "name": "ipython",
    "version": 3
   },
   "file_extension": ".py",
   "mimetype": "text/x-python",
   "name": "python",
   "nbconvert_exporter": "python",
   "pygments_lexer": "ipython3",
   "version": "3.11.4"
  }
 },
 "nbformat": 4,
 "nbformat_minor": 5
}
